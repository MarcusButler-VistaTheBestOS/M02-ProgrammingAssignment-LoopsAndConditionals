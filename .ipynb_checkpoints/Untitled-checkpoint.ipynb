{
 "cells": [
  {
   "cell_type": "code",
   "execution_count": 5,
   "id": "91a01d9d-710a-4e52-82e0-cb6bb122d796",
   "metadata": {},
   "outputs": [
    {
     "name": "stdout",
     "output_type": "stream",
     "text": [
      "Too High\n"
     ]
    }
   ],
   "source": [
    "# 4.1\n",
    "secret = 4\n",
    "guess = 8\n",
    "\n",
    "# Is guess lower than secret.\n",
    "if guess < secret:\n",
    "    print(\"Too Low\")\n",
    "# Is guess higer than secret.\n",
    "elif guess > secret:\n",
    "    print(\"Too High\")\n",
    "# Is guess equal to secret.\n",
    "else:\n",
    "    print(\"just right\")\n"
   ]
  },
  {
   "cell_type": "code",
   "execution_count": 12,
   "id": "f41be02a-5b12-4d77-aaba-ef7a62ea8617",
   "metadata": {},
   "outputs": [
    {
     "name": "stdout",
     "output_type": "stream",
     "text": [
      "pumpkin\n"
     ]
    }
   ],
   "source": [
    "# 4.2\n",
    "green = False\n",
    "small = False\n",
    "\n",
    "# cherry = red, small\n",
    "if green == False and small == True:\n",
    "    print(\"cherry\")\n",
    "# pea = green, small\n",
    "elif green == True and small == True:\n",
    "    print(\"pea\")\n",
    "# watermelon = green, big\n",
    "elif green == True and small == False:\n",
    "    print(\"watermelon\")\n",
    "# pumpkin = orange, big\n",
    "elif green == False and small == False:\n",
    "    print(\"pumpkin\")"
   ]
  },
  {
   "cell_type": "code",
   "execution_count": 14,
   "id": "fcdf006a-160d-470d-a443-875cd816d02b",
   "metadata": {},
   "outputs": [
    {
     "name": "stdout",
     "output_type": "stream",
     "text": [
      "3\n",
      "2\n",
      "1\n",
      "0\n"
     ]
    }
   ],
   "source": [
    "# 6.1\n",
    "numbers = list((3,2,1,0))\n",
    "\n",
    "for number in numbers:\n",
    "    print(number)"
   ]
  },
  {
   "cell_type": "code",
   "execution_count": 17,
   "id": "2125da3a-7cd1-49b7-851a-8bcf201d0418",
   "metadata": {},
   "outputs": [
    {
     "name": "stdout",
     "output_type": "stream",
     "text": [
      "too Low\n",
      "too Low\n",
      "too Low\n",
      "too Low\n",
      "too Low\n",
      "too Low\n",
      "found it!\n"
     ]
    }
   ],
   "source": [
    "# 6.2\n",
    "guess_me = 7\n",
    "number = 1\n",
    "\n",
    "# Main Loop\n",
    "while True:\n",
    "    ## if number < guess_me\n",
    "    if number < guess_me:\n",
    "        print(\"too Low\")\n",
    "    ## if number == guess_me\n",
    "    elif number == guess_me:\n",
    "        print(\"found it!\")\n",
    "        break\n",
    "    ## if number > guess_me\n",
    "    else:\n",
    "        print('oops')\n",
    "        break\n",
    "        \n",
    "    number += 1"
   ]
  },
  {
   "cell_type": "code",
   "execution_count": 22,
   "id": "d127f3fc-96d2-40a6-b6d5-1960fc4d98ec",
   "metadata": {},
   "outputs": [
    {
     "name": "stdout",
     "output_type": "stream",
     "text": [
      "too low\n",
      "too low\n",
      "too low\n",
      "too low\n",
      "too low\n",
      "found it!\n"
     ]
    }
   ],
   "source": [
    "# 6.3\n",
    "guess_me = 5\n",
    "\n",
    "for number in range(10):\n",
    "    if number < guess_me:\n",
    "        print(\"too low\")\n",
    "    elif number == guess_me:\n",
    "        print(\"found it!\")\n",
    "        break\n",
    "    else:\n",
    "        print('oops')\n",
    "        break"
   ]
  },
  {
   "cell_type": "code",
   "execution_count": null,
   "id": "01a2db2e-b4d1-4b33-8da6-8b8ca770fb97",
   "metadata": {},
   "outputs": [],
   "source": []
  }
 ],
 "metadata": {
  "kernelspec": {
   "display_name": "Python 3 (ipykernel)",
   "language": "python",
   "name": "python3"
  },
  "language_info": {
   "codemirror_mode": {
    "name": "ipython",
    "version": 3
   },
   "file_extension": ".py",
   "mimetype": "text/x-python",
   "name": "python",
   "nbconvert_exporter": "python",
   "pygments_lexer": "ipython3",
   "version": "3.12.4"
  }
 },
 "nbformat": 4,
 "nbformat_minor": 5
}
